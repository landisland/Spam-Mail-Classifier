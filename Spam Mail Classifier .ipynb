{
 "cells": [
  {
   "cell_type": "markdown",
   "id": "5c611d4e",
   "metadata": {},
   "source": [
    "This notebook is to use machine learning to predict whether the email is spam or ham (good email)\n",
    "\n",
    "[Click here](https://www.kaggle.com/syamkakarla/spam-mail-classifier/data) to download csv data"
   ]
  },
  {
   "cell_type": "markdown",
   "id": "e0ae8b43",
   "metadata": {},
   "source": [
    "# Import support libraries"
   ]
  },
  {
   "cell_type": "code",
   "execution_count": 13,
   "id": "76776d3d",
   "metadata": {},
   "outputs": [
    {
     "name": "stderr",
     "output_type": "stream",
     "text": [
      "[nltk_data] Downloading package stopwords to /Users/will/nltk_data...\n",
      "[nltk_data]   Package stopwords is already up-to-date!\n",
      "[nltk_data] Downloading package punkt to /Users/will/nltk_data...\n",
      "[nltk_data]   Unzipping tokenizers/punkt.zip.\n"
     ]
    }
   ],
   "source": [
    "# data importing, processing\n",
    "import pandas as pd\n",
    "import numpy as np\n",
    "\n",
    "# data visualization\n",
    "import matplotlib.pyplot as plt\n",
    "import seaborn as sns # Seaborn is a data visualization library built on top of matplotlib\n",
    "\n",
    "# text processing\n",
    "import nltk # Natural Language Toolkit\n",
    "nltk.download('stopwords')\n",
    "nltk.download('punkt')\n",
    "from nltk.corpus import stopwords\n",
    "from nltk.tokenize import word_tokenize\n",
    "\n",
    "# machine learning\n",
    "from sklearn.model_selection import train_test_split # Scikit-learn is a library for machine learning in Python\n",
    "from sklearn.feature_extraction.text import CountVectorizer\n",
    "from sklearn.linear_model import LogisticRegression\n",
    "from sklearn.model_selection import GridSearchCV\n",
    "\n",
    "# deep learning\n",
    "from tensorflow.keras.utils import plot_model\n",
    "from tensorflow.keras.layers import Conv1D, Dense, MaxPooling1D, BatchNormalization, Flatten, Dropout\n",
    "from tensorflow.keras.models import Sequential\n",
    "\n",
    "# Accuracy Matrics\n",
    "from sklearn.metrics import accuracy_score, classification_report, confusion_matrix"
   ]
  },
  {
   "cell_type": "markdown",
   "id": "1c328fde",
   "metadata": {},
   "source": [
    "# Importing data"
   ]
  },
  {
   "cell_type": "code",
   "execution_count": 2,
   "id": "a941e8b4",
   "metadata": {},
   "outputs": [],
   "source": [
    "df = pd.read_csv('/Users/will/Documents/LandislandGithub/DataAnalysis/Spamemail/spam_ham_dataset.csv')\n",
    "# Removing Unnecessary column\n",
    "df.drop('Unnamed: 0', axis = 1, inplace = True)\n",
    "# Changing column names\n",
    "df.columns = ['label', 'text', 'class']"
   ]
  },
  {
   "cell_type": "code",
   "execution_count": 3,
   "id": "a5c769dd",
   "metadata": {},
   "outputs": [
    {
     "data": {
      "text/html": [
       "<div>\n",
       "<style scoped>\n",
       "    .dataframe tbody tr th:only-of-type {\n",
       "        vertical-align: middle;\n",
       "    }\n",
       "\n",
       "    .dataframe tbody tr th {\n",
       "        vertical-align: top;\n",
       "    }\n",
       "\n",
       "    .dataframe thead th {\n",
       "        text-align: right;\n",
       "    }\n",
       "</style>\n",
       "<table border=\"1\" class=\"dataframe\">\n",
       "  <thead>\n",
       "    <tr style=\"text-align: right;\">\n",
       "      <th></th>\n",
       "      <th>label</th>\n",
       "      <th>text</th>\n",
       "      <th>class</th>\n",
       "    </tr>\n",
       "  </thead>\n",
       "  <tbody>\n",
       "    <tr>\n",
       "      <th>0</th>\n",
       "      <td>ham</td>\n",
       "      <td>Subject: enron methanol ; meter # : 988291\\r\\n...</td>\n",
       "      <td>0</td>\n",
       "    </tr>\n",
       "    <tr>\n",
       "      <th>1</th>\n",
       "      <td>ham</td>\n",
       "      <td>Subject: hpl nom for january 9 , 2001\\r\\n( see...</td>\n",
       "      <td>0</td>\n",
       "    </tr>\n",
       "    <tr>\n",
       "      <th>2</th>\n",
       "      <td>ham</td>\n",
       "      <td>Subject: neon retreat\\r\\nho ho ho , we ' re ar...</td>\n",
       "      <td>0</td>\n",
       "    </tr>\n",
       "    <tr>\n",
       "      <th>3</th>\n",
       "      <td>spam</td>\n",
       "      <td>Subject: photoshop , windows , office . cheap ...</td>\n",
       "      <td>1</td>\n",
       "    </tr>\n",
       "    <tr>\n",
       "      <th>4</th>\n",
       "      <td>ham</td>\n",
       "      <td>Subject: re : indian springs\\r\\nthis deal is t...</td>\n",
       "      <td>0</td>\n",
       "    </tr>\n",
       "  </tbody>\n",
       "</table>\n",
       "</div>"
      ],
      "text/plain": [
       "  label                                               text  class\n",
       "0   ham  Subject: enron methanol ; meter # : 988291\\r\\n...      0\n",
       "1   ham  Subject: hpl nom for january 9 , 2001\\r\\n( see...      0\n",
       "2   ham  Subject: neon retreat\\r\\nho ho ho , we ' re ar...      0\n",
       "3  spam  Subject: photoshop , windows , office . cheap ...      1\n",
       "4   ham  Subject: re : indian springs\\r\\nthis deal is t...      0"
      ]
     },
     "execution_count": 3,
     "metadata": {},
     "output_type": "execute_result"
    }
   ],
   "source": [
    "df.head()"
   ]
  },
  {
   "cell_type": "code",
   "execution_count": 4,
   "id": "992b04d6",
   "metadata": {},
   "outputs": [
    {
     "data": {
      "text/plain": [
       "(5171, 3)"
      ]
     },
     "execution_count": 4,
     "metadata": {},
     "output_type": "execute_result"
    }
   ],
   "source": [
    "df.shape"
   ]
  },
  {
   "cell_type": "code",
   "execution_count": 5,
   "id": "61beb265",
   "metadata": {},
   "outputs": [
    {
     "name": "stdout",
     "output_type": "stream",
     "text": [
      "<class 'pandas.core.frame.DataFrame'>\n",
      "RangeIndex: 5171 entries, 0 to 5170\n",
      "Data columns (total 3 columns):\n",
      " #   Column  Non-Null Count  Dtype \n",
      "---  ------  --------------  ----- \n",
      " 0   label   5171 non-null   object\n",
      " 1   text    5171 non-null   object\n",
      " 2   class   5171 non-null   int64 \n",
      "dtypes: int64(1), object(2)\n",
      "memory usage: 121.3+ KB\n"
     ]
    }
   ],
   "source": [
    "df.info()"
   ]
  },
  {
   "cell_type": "code",
   "execution_count": 6,
   "id": "533da7f1",
   "metadata": {},
   "outputs": [
    {
     "data": {
      "text/plain": [
       "label    0\n",
       "text     0\n",
       "class    0\n",
       "dtype: int64"
      ]
     },
     "execution_count": 6,
     "metadata": {},
     "output_type": "execute_result"
    }
   ],
   "source": [
    "df.isna().sum()"
   ]
  },
  {
   "cell_type": "markdown",
   "id": "2f095e51",
   "metadata": {},
   "source": [
    "Great, no NaN in our dataset now"
   ]
  },
  {
   "cell_type": "code",
   "execution_count": 41,
   "id": "9006dbad",
   "metadata": {},
   "outputs": [
    {
     "data": {
      "image/png": "[encoded data removed]",
      "text/plain": [
       "<Figure size 800x400 with 1 Axes>"
      ]
     },
     "metadata": {},
     "output_type": "display_data"
    }
   ],
   "source": [
    "# Barplot describes the count of the class labels\n",
    "plt.figure(figsize = (8, 4))\n",
    "sns.countplot(data = df, x = 'label');\n",
    "plt.show()"
   ]
  },
  {
   "cell_type": "code",
   "execution_count": 9,
   "id": "6060889b",
   "metadata": {},
   "outputs": [
    {
     "name": "stdout",
     "output_type": "stream",
     "text": [
      "Class Label: ham\n",
      "Mail: \n",
      "Subject: enron methanol ; meter # : 988291\r\n",
      "this is a follow up to the note i gave you on monday , 4 / 3 / 00 { preliminary\r\n",
      "flow data provided by daren } .\r\n",
      "please override pop ' s daily volume { presently zero } to reflect daily\r\n",
      "activity you can obtain from gas control .\r\n",
      "this change is needed asap for economics purposes .\n",
      "\n",
      "\n",
      "Class Label: ham\n",
      "Mail: \n",
      "Subject: hpl nom for january 9 , 2001\r\n",
      "( see attached file : hplnol 09 . xls )\r\n",
      "- hplnol 09 . xls\n",
      "\n",
      "\n",
      "Class Label: ham\n",
      "Mail: \n",
      "Subject: neon retreat\r\n",
      "ho ho ho , we ' re around to that most wonderful time of the year - - - neon leaders retreat time !\r\n",
      "i know that this time of year is extremely hectic , and that it ' s tough to think about anything past the holidays , but life does go on past the week of december 25 through january 1 , and that ' s what i ' d like you to think about for a minute .\r\n",
      "on the calender that i handed out at the beginning of the fall semester , the retreat was scheduled for the weekend of january 5 - 6 . but because of a youth ministers conference that brad and dustin are connected with that week , we ' re going to change the date to the following weekend , january 12 - 13 . now comes the part you need to think about .\r\n",
      "i think we all agree that it ' s important for us to get together and have some time to recharge our batteries before we get to far into the spring semester , but it can be a lot of trouble and difficult for us to get away without kids , etc . so , brad came up with a potential alternative for how we can get together on that weekend , and then you can let me know which you prefer .\r\n",
      "the first option would be to have a retreat similar to what we ' ve done the past several years . this year we could go to the heartland country inn ( www . . com ) outside of brenham . it ' s a nice place , where we ' d have a 13 - bedroom and a 5 - bedroom house side by side . it ' s in the country , real relaxing , but also close to brenham and only about one hour and 15 minutes from here . we can golf , shop in the antique and craft stores in brenham , eat dinner together at the ranch , and spend time with each other . we ' d meet on saturday , and then return on sunday morning , just like what we ' ve done in the past .\r\n",
      "the second option would be to stay here in houston , have dinner together at a nice restaurant , and then have dessert and a time for visiting and recharging at one of our homes on that saturday evening . this might be easier , but the trade off would be that we wouldn ' t have as much time together . i ' ll let you decide .\r\n",
      "email me back with what would be your preference , and of course if you ' re available on that weekend . the democratic process will prevail - - majority vote will rule ! let me hear from you as soon as possible , preferably by the end of the weekend . and if the vote doesn ' t go your way , no complaining allowed ( like i tend to do ! )\r\n",
      "have a great weekend , great golf , great fishing , great shopping , or whatever makes you happy !\r\n",
      "bobby\n",
      "\n",
      "\n",
      "Class Label: spam\n",
      "Mail: \n",
      "Subject: photoshop , windows , office . cheap . main trending\r\n",
      "abasements darer prudently fortuitous undergone\r\n",
      "lighthearted charm orinoco taster\r\n",
      "railroad affluent pornographic cuvier\r\n",
      "irvin parkhouse blameworthy chlorophyll\r\n",
      "robed diagrammatic fogarty clears bayda\r\n",
      "inconveniencing managing represented smartness hashish\r\n",
      "academies shareholders unload badness\r\n",
      "danielson pure caffein\r\n",
      "spaniard chargeable levin\r\n",
      "\n",
      "\n",
      "\n"
     ]
    }
   ],
   "source": [
    "# Let's see few examples of the data\n",
    "\n",
    "for i in df.iterrows():\n",
    "    print(\"Class Label: {}\\nMail: \\n{}\\n\\n\".format(i[1][0], i[1][1]))\n",
    "    if i[0] == 3: break"
   ]
  },
  {
   "cell_type": "markdown",
   "id": "f91b9ebb",
   "metadata": {},
   "source": [
    "# Remove stopwords from the data"
   ]
  },
  {
   "cell_type": "code",
   "execution_count": 14,
   "id": "6a3bac34",
   "metadata": {},
   "outputs": [
    {
     "name": "stdout",
     "output_type": "stream",
     "text": [
      "CPU times: user 7.73 s, sys: 44.4 ms, total: 7.77 s\n",
      "Wall time: 8.02 s\n"
     ]
    }
   ],
   "source": [
    "%%time\n",
    "stop_words = set(stopwords.words('english')) \n",
    "\n",
    "df['text'] = df['text'].apply(lambda x: ' '.join([ word for word in word_tokenize(x)  if not word in stop_words]))"
   ]
  },
  {
   "cell_type": "code",
   "execution_count": 15,
   "id": "af6b8383",
   "metadata": {},
   "outputs": [
    {
     "data": {
      "text/html": [
       "<div>\n",
       "<style scoped>\n",
       "    .dataframe tbody tr th:only-of-type {\n",
       "        vertical-align: middle;\n",
       "    }\n",
       "\n",
       "    .dataframe tbody tr th {\n",
       "        vertical-align: top;\n",
       "    }\n",
       "\n",
       "    .dataframe thead th {\n",
       "        text-align: right;\n",
       "    }\n",
       "</style>\n",
       "<table border=\"1\" class=\"dataframe\">\n",
       "  <thead>\n",
       "    <tr style=\"text-align: right;\">\n",
       "      <th></th>\n",
       "      <th>label</th>\n",
       "      <th>text</th>\n",
       "      <th>class</th>\n",
       "    </tr>\n",
       "  </thead>\n",
       "  <tbody>\n",
       "    <tr>\n",
       "      <th>3901</th>\n",
       "      <td>spam</td>\n",
       "      <td>Subject : ordering pain medication page loadin...</td>\n",
       "      <td>1</td>\n",
       "    </tr>\n",
       "    <tr>\n",
       "      <th>2258</th>\n",
       "      <td>ham</td>\n",
       "      <td>Subject : organizational changes please share ...</td>\n",
       "      <td>0</td>\n",
       "    </tr>\n",
       "    <tr>\n",
       "      <th>1126</th>\n",
       "      <td>ham</td>\n",
       "      <td>Subject : february buyback deals case want aro...</td>\n",
       "      <td>0</td>\n",
       "    </tr>\n",
       "    <tr>\n",
       "      <th>5030</th>\n",
       "      <td>ham</td>\n",
       "      <td>Subject : revised nom 5 / 5 - eastrans ; revis...</td>\n",
       "      <td>0</td>\n",
       "    </tr>\n",
       "    <tr>\n",
       "      <th>4987</th>\n",
       "      <td>spam</td>\n",
       "      <td>Subject : live large - rolex replicas online !...</td>\n",
       "      <td>1</td>\n",
       "    </tr>\n",
       "    <tr>\n",
       "      <th>1163</th>\n",
       "      <td>ham</td>\n",
       "      <td>Subject : opportunity change electricity provi...</td>\n",
       "      <td>0</td>\n",
       "    </tr>\n",
       "    <tr>\n",
       "      <th>3877</th>\n",
       "      <td>ham</td>\n",
       "      <td>Subject : intraday eastrans nominations change...</td>\n",
       "      <td>0</td>\n",
       "    </tr>\n",
       "    <tr>\n",
       "      <th>1106</th>\n",
       "      <td>ham</td>\n",
       "      <td>Subject : mobil discrepancies daren : ' come t...</td>\n",
       "      <td>0</td>\n",
       "    </tr>\n",
       "    <tr>\n",
       "      <th>2574</th>\n",
       "      <td>ham</td>\n",
       "      <td>Subject : enron / hpl actuals november 30 , 20...</td>\n",
       "      <td>0</td>\n",
       "    </tr>\n",
       "    <tr>\n",
       "      <th>4719</th>\n",
       "      <td>ham</td>\n",
       "      <td>Subject : tenaska iv - - cleburne march 2001 s...</td>\n",
       "      <td>0</td>\n",
       "    </tr>\n",
       "  </tbody>\n",
       "</table>\n",
       "</div>"
      ],
      "text/plain": [
       "     label                                               text  class\n",
       "3901  spam  Subject : ordering pain medication page loadin...      1\n",
       "2258   ham  Subject : organizational changes please share ...      0\n",
       "1126   ham  Subject : february buyback deals case want aro...      0\n",
       "5030   ham  Subject : revised nom 5 / 5 - eastrans ; revis...      0\n",
       "4987  spam  Subject : live large - rolex replicas online !...      1\n",
       "1163   ham  Subject : opportunity change electricity provi...      0\n",
       "3877   ham  Subject : intraday eastrans nominations change...      0\n",
       "1106   ham  Subject : mobil discrepancies daren : ' come t...      0\n",
       "2574   ham  Subject : enron / hpl actuals november 30 , 20...      0\n",
       "4719   ham  Subject : tenaska iv - - cleburne march 2001 s...      0"
      ]
     },
     "execution_count": 15,
     "metadata": {},
     "output_type": "execute_result"
    }
   ],
   "source": [
    "df.sample(10)"
   ]
  },
  {
   "cell_type": "code",
   "execution_count": 16,
   "id": "a23ee471",
   "metadata": {},
   "outputs": [
    {
     "name": "stdout",
     "output_type": "stream",
     "text": [
      "Shape of X: (5171,)\n",
      "shape of y: (5171,)\n"
     ]
    }
   ],
   "source": [
    "X = df.loc[:, 'text']\n",
    "y = df.loc[:, 'class']\n",
    "\n",
    "print(f\"Shape of X: {X.shape}\\nshape of y: {y.shape}\")"
   ]
  },
  {
   "cell_type": "markdown",
   "id": "5c2e5280",
   "metadata": {},
   "source": [
    "# Split data into train and test in 80:20"
   ]
  },
  {
   "cell_type": "code",
   "execution_count": 20,
   "id": "fc218ac0",
   "metadata": {},
   "outputs": [],
   "source": [
    "X_train, X_test, y_train, y_test = train_test_split(X, y, test_size=0.20, random_state=11)"
   ]
  },
  {
   "cell_type": "code",
   "execution_count": 21,
   "id": "8eee0a3b",
   "metadata": {},
   "outputs": [
    {
     "name": "stdout",
     "output_type": "stream",
     "text": [
      "Train Data Shape: (4136,)\n",
      "Test Data Shape: (1035,)\n"
     ]
    }
   ],
   "source": [
    "print(f\"Train Data Shape: {X_train.shape}\\nTest Data Shape: {X_test.shape}\")"
   ]
  },
  {
   "cell_type": "markdown",
   "id": "25b02c81",
   "metadata": {},
   "source": [
    "# Preprocess text to build the ML mdel"
   ]
  },
  {
   "cell_type": "code",
   "execution_count": 22,
   "id": "bf7b119a",
   "metadata": {},
   "outputs": [
    {
     "data": {
      "text/plain": [
       "CountVectorizer()"
      ]
     },
     "execution_count": 22,
     "metadata": {},
     "output_type": "execute_result"
    }
   ],
   "source": [
    "cVect = CountVectorizer()\n",
    "cVect.fit(X_train)"
   ]
  },
  {
   "cell_type": "markdown",
   "id": "6e907917",
   "metadata": {},
   "source": [
    "Let's see the vocabulary that has extracted by the count vextorizer"
   ]
  },
  {
   "cell_type": "code",
   "execution_count": 23,
   "id": "68a241a9",
   "metadata": {},
   "outputs": [
    {
     "name": "stdout",
     "output_type": "stream",
     "text": [
      "NO.of Tokens:  44255\n"
     ]
    }
   ],
   "source": [
    "print('NO.of Tokens: ',len(cVect.vocabulary_.keys()))"
   ]
  },
  {
   "cell_type": "code",
   "execution_count": 24,
   "id": "7482e3ff",
   "metadata": {},
   "outputs": [],
   "source": [
    "# document term vector (dtv)\n",
    "dtv = cVect.transform(X_train)"
   ]
  },
  {
   "cell_type": "code",
   "execution_count": 25,
   "id": "4e77f9a0",
   "metadata": {},
   "outputs": [
    {
     "data": {
      "text/plain": [
       "scipy.sparse.csr.csr_matrix"
      ]
     },
     "execution_count": 25,
     "metadata": {},
     "output_type": "execute_result"
    }
   ],
   "source": [
    "type(dtv)"
   ]
  },
  {
   "cell_type": "code",
   "execution_count": 26,
   "id": "00ccc8d0",
   "metadata": {},
   "outputs": [],
   "source": [
    "dtv = dtv.toarray()"
   ]
  },
  {
   "cell_type": "code",
   "execution_count": 27,
   "id": "faff46f0",
   "metadata": {},
   "outputs": [
    {
     "name": "stdout",
     "output_type": "stream",
     "text": [
      "Number of Observations: 4136\n",
      "Tokens/Features: 44255\n"
     ]
    }
   ],
   "source": [
    "print(f\"Number of Observations: {dtv.shape[0]}\\nTokens/Features: {dtv.shape[1]}\")"
   ]
  },
  {
   "cell_type": "code",
   "execution_count": 28,
   "id": "9674ee73",
   "metadata": {},
   "outputs": [
    {
     "data": {
      "text/plain": [
       "array([0, 0, 0, ..., 0, 0, 0])"
      ]
     },
     "execution_count": 28,
     "metadata": {},
     "output_type": "execute_result"
    }
   ],
   "source": [
    "# Let's see an sample that has been preprocessed\n",
    "dtv[1]"
   ]
  },
  {
   "cell_type": "markdown",
   "id": "99bce38c",
   "metadata": {},
   "source": [
    "## Logistic Regression.\n",
    "\n",
    "Logistic Regression could help use predict whether the student passed or failed. Logistic regression predictions are discrete (only specific values or categories are allowed). We can also view probability scores underlying the model’s classifications."
   ]
  },
  {
   "cell_type": "markdown",
   "id": "814978d7",
   "metadata": {},
   "source": [
    "## Hyperparameter Tuning"
   ]
  },
  {
   "cell_type": "code",
   "execution_count": 29,
   "id": "446f6778",
   "metadata": {},
   "outputs": [
    {
     "name": "stderr",
     "output_type": "stream",
     "text": [
      "[Parallel(n_jobs=1)]: Using backend SequentialBackend with 1 concurrent workers.\n",
      "[Parallel(n_jobs=1)]: Done   1 out of   1 | elapsed:    7.6s finished\n",
      "[Parallel(n_jobs=1)]: Using backend SequentialBackend with 1 concurrent workers.\n",
      "[Parallel(n_jobs=1)]: Done   1 out of   1 | elapsed:    5.9s finished\n",
      "[Parallel(n_jobs=1)]: Using backend SequentialBackend with 1 concurrent workers.\n",
      "[Parallel(n_jobs=1)]: Done   1 out of   1 | elapsed:    5.9s finished\n",
      "[Parallel(n_jobs=1)]: Using backend SequentialBackend with 1 concurrent workers.\n",
      "[Parallel(n_jobs=1)]: Done   1 out of   1 | elapsed:    6.7s finished\n"
     ]
    },
    {
     "name": "stdout",
     "output_type": "stream",
     "text": [
      "[LibLinear][LibLinear][LibLinear][LibLinear]"
     ]
    },
    {
     "name": "stderr",
     "output_type": "stream",
     "text": [
      "[Parallel(n_jobs=1)]: Using backend SequentialBackend with 1 concurrent workers.\n",
      "[Parallel(n_jobs=1)]: Done   1 out of   1 | elapsed:    8.8s finished\n",
      "[Parallel(n_jobs=1)]: Using backend SequentialBackend with 1 concurrent workers.\n",
      "[Parallel(n_jobs=1)]: Done   1 out of   1 | elapsed:    7.4s finished\n",
      "[Parallel(n_jobs=1)]: Using backend SequentialBackend with 1 concurrent workers.\n",
      "[Parallel(n_jobs=1)]: Done   1 out of   1 | elapsed:    6.8s finished\n",
      "[Parallel(n_jobs=1)]: Using backend SequentialBackend with 1 concurrent workers.\n",
      "[Parallel(n_jobs=1)]: Done   1 out of   1 | elapsed:    6.9s finished\n"
     ]
    },
    {
     "name": "stdout",
     "output_type": "stream",
     "text": [
      "[LibLinear][LibLinear][LibLinear][LibLinear][LibLinear]Tuned Hpyerparameters : {'C': 1.0, 'penalty': 'l2', 'solver': 'liblinear'}\n",
      "accuracy : 0.97678916827853\n"
     ]
    }
   ],
   "source": [
    "lr = LogisticRegression(verbose=1)\n",
    "\n",
    "grid={\"C\":[float(i) for i in range(1, 3)], \"penalty\":[\"l2\"], \"solver\":[ 'lbfgs', 'liblinear']}\n",
    "logreg_cv=GridSearchCV(lr, grid, cv=4)\n",
    "logreg_cv.fit(dtv,y_train)\n",
    "\n",
    "print(\"Tuned Hpyerparameters :\",logreg_cv.best_params_)\n",
    "print(\"accuracy :\",logreg_cv.best_score_)"
   ]
  },
  {
   "cell_type": "code",
   "execution_count": 30,
   "id": "9f2c1212",
   "metadata": {},
   "outputs": [
    {
     "name": "stdout",
     "output_type": "stream",
     "text": [
      "CPU times: user 1.82 s, sys: 513 ms, total: 2.33 s\n",
      "Wall time: 2.7 s\n"
     ]
    },
    {
     "data": {
      "text/plain": [
       "LogisticRegression(solver='liblinear')"
      ]
     },
     "execution_count": 30,
     "metadata": {},
     "output_type": "execute_result"
    }
   ],
   "source": [
    "%%time\n",
    "lr = LogisticRegression(solver='liblinear', penalty ='l2' , C = 1.0)\n",
    "lr.fit(dtv, y_train)"
   ]
  },
  {
   "cell_type": "markdown",
   "id": "e44755c4",
   "metadata": {},
   "source": [
    "## Evaluate on the Test data"
   ]
  },
  {
   "cell_type": "code",
   "execution_count": 31,
   "id": "7ed69e9d",
   "metadata": {},
   "outputs": [
    {
     "name": "stdout",
     "output_type": "stream",
     "text": [
      "Number of Observations: 1035\n",
      "Tokens/Features: 44255\n"
     ]
    }
   ],
   "source": [
    "# Preprocess the test data\n",
    "test_dtv = cVect.transform(X_test)\n",
    "test_dtv = test_dtv.toarray()\n",
    "print(f\"Number of Observations: {test_dtv.shape[0]}\\nTokens/Features: {test_dtv.shape[1]}\")"
   ]
  },
  {
   "cell_type": "code",
   "execution_count": 32,
   "id": "69e7885e",
   "metadata": {},
   "outputs": [
    {
     "name": "stdout",
     "output_type": "stream",
     "text": [
      "CPU times: user 196 ms, sys: 179 ms, total: 374 ms\n",
      "Wall time: 369 ms\n"
     ]
    }
   ],
   "source": [
    "%%time\n",
    "pred = lr.predict(test_dtv)"
   ]
  },
  {
   "cell_type": "code",
   "execution_count": 33,
   "id": "7984f1d9",
   "metadata": {},
   "outputs": [
    {
     "name": "stdout",
     "output_type": "stream",
     "text": [
      "Accuracy:  98.35748792270532\n"
     ]
    }
   ],
   "source": [
    "print('Accuracy: ', accuracy_score(y_test, pred) * 100)"
   ]
  },
  {
   "cell_type": "markdown",
   "id": "246dcdbb",
   "metadata": {},
   "source": [
    "## Classification Report of the classifier"
   ]
  },
  {
   "cell_type": "code",
   "execution_count": 34,
   "id": "e610ee87",
   "metadata": {},
   "outputs": [
    {
     "name": "stdout",
     "output_type": "stream",
     "text": [
      "              precision    recall  f1-score   support\n",
      "\n",
      "           0       1.00      0.98      0.99       744\n",
      "           1       0.95      0.99      0.97       291\n",
      "\n",
      "    accuracy                           0.98      1035\n",
      "   macro avg       0.97      0.99      0.98      1035\n",
      "weighted avg       0.98      0.98      0.98      1035\n",
      "\n"
     ]
    }
   ],
   "source": [
    "# 0 - Not Spam / Ham\n",
    "# 1 - Spam \n",
    "print(classification_report(y_test, pred))"
   ]
  },
  {
   "cell_type": "markdown",
   "id": "149a56dd",
   "metadata": {},
   "source": [
    "## Confusion Matrix"
   ]
  },
  {
   "cell_type": "code",
   "execution_count": 38,
   "id": "b03a636c",
   "metadata": {
    "scrolled": true
   },
   "outputs": [
    {
     "data": {
      "image/png": "[encoded data removed]",
      "text/plain": [
       "<Figure size 600x600 with 1 Axes>"
      ]
     },
     "metadata": {},
     "output_type": "display_data"
    }
   ],
   "source": [
    "cmat = confusion_matrix(y_test, pred)\n",
    "plt.figure(figsize = (6, 6))\n",
    "sns.heatmap(cmat, annot = True, cmap = 'Paired', cbar = False, fmt=\"d\", xticklabels=['Not Spam', 'Spam'], yticklabels=['Not Spam', 'Spam']);\n",
    "plt.show()"
   ]
  },
  {
   "cell_type": "markdown",
   "id": "c5a1d831",
   "metadata": {},
   "source": []
  },
  {
   "cell_type": "code",
   "execution_count": null,
   "id": "2c033a83",
   "metadata": {},
   "outputs": [],
   "source": []
  }
 ],
 "metadata": {
  "kernelspec": {
   "display_name": "Python 3",
   "language": "python",
   "name": "python3"
  },
  "language_info": {
   "codemirror_mode": {
    "name": "ipython",
    "version": 3
   },
   "file_extension": ".py",
   "mimetype": "text/x-python",
   "name": "python",
   "nbconvert_exporter": "python",
   "pygments_lexer": "ipython3",
   "version": "3.7.9"
  }
 },
 "nbformat": 4,
 "nbformat_minor": 5
}
